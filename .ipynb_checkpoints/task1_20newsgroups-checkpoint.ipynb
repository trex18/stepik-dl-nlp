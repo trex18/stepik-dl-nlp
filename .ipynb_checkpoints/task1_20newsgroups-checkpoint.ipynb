{
  "nbformat": 4,
  "nbformat_minor": 0,
  "metadata": {
    "colab": {
      "name": "task1_20newsgroups.ipynb",
      "provenance": []
    },
    "kernelspec": {
      "display_name": "Python 3",
      "language": "python",
      "name": "python3"
    },
    "language_info": {
      "codemirror_mode": {
        "name": "ipython",
        "version": 3
      },
      "file_extension": ".py",
      "mimetype": "text/x-python",
      "name": "python",
      "nbconvert_exporter": "python",
      "pygments_lexer": "ipython3",
      "version": "3.7.1"
    },
    "latex_envs": {
      "LaTeX_envs_menu_present": true,
      "autoclose": false,
      "autocomplete": true,
      "bibliofile": "biblio.bib",
      "cite_by": "apalike",
      "current_citInitial": 1,
      "eqLabelWithNumbers": true,
      "eqNumInitial": 1,
      "hotkeys": {
        "equation": "Ctrl-E",
        "itemize": "Ctrl-I"
      },
      "labels_anchors": false,
      "latex_user_defs": false,
      "report_style_numbering": false,
      "user_envs_cfg": false
    },
    "toc": {
      "base_numbering": 1,
      "nav_menu": {},
      "number_sections": true,
      "sideBar": true,
      "skip_h1_title": false,
      "title_cell": "Table of Contents",
      "title_sidebar": "Contents",
      "toc_cell": false,
      "toc_position": {},
      "toc_section_display": true,
      "toc_window_display": true
    }
  },
  "cells": [
    {
      "cell_type": "markdown",
      "metadata": {
        "colab_type": "text",
        "id": "dibb86sDgx2w"
      },
      "source": [
        "# Тематическая классификация длинных текстов - TFIDF и LogReg"
      ]
    },
    {
      "cell_type": "code",
      "metadata": {
        "colab_type": "code",
        "id": "HEPpRZqQgx2x",
        "outputId": "d8647a96-af16-4291-9ced-95e36c91e1c4",
        "colab": {
          "base_uri": "https://localhost:8080/",
          "height": 1000
        }
      },
      "source": [
        "# Если Вы запускаете ноутбук на colab или kaggle,\n",
        "# выполните следующие строчки, чтобы подгрузить библиотеку dlnlputils:\n",
        "\n",
        "!git clone https://github.com/trex18/stepik-dl-nlp.git && pip install -r stepik-dl-nlp/requirements.txt\n",
        "import sys; sys.path.append('./stepik-dl-nlp')"
      ],
      "execution_count": 1,
      "outputs": [
        {
          "output_type": "stream",
          "text": [
            "Cloning into 'stepik-dl-nlp'...\n",
            "remote: Enumerating objects: 138, done.\u001b[K\n",
            "remote: Counting objects:   0% (1/138)\u001b[K\rremote: Counting objects:   1% (2/138)\u001b[K\rremote: Counting objects:   2% (3/138)\u001b[K\rremote: Counting objects:   3% (5/138)\u001b[K\rremote: Counting objects:   4% (6/138)\u001b[K\rremote: Counting objects:   5% (7/138)\u001b[K\rremote: Counting objects:   6% (9/138)\u001b[K\rremote: Counting objects:   7% (10/138)\u001b[K\rremote: Counting objects:   8% (12/138)\u001b[K\rremote: Counting objects:   9% (13/138)\u001b[K\rremote: Counting objects:  10% (14/138)\u001b[K\rremote: Counting objects:  11% (16/138)\u001b[K\rremote: Counting objects:  12% (17/138)\u001b[K\rremote: Counting objects:  13% (18/138)\u001b[K\rremote: Counting objects:  14% (20/138)\u001b[K\rremote: Counting objects:  15% (21/138)\u001b[K\rremote: Counting objects:  16% (23/138)\u001b[K\rremote: Counting objects:  17% (24/138)\u001b[K\rremote: Counting objects:  18% (25/138)\u001b[K\rremote: Counting objects:  19% (27/138)\u001b[K\rremote: Counting objects:  20% (28/138)\u001b[K\rremote: Counting objects:  21% (29/138)\u001b[K\rremote: Counting objects:  22% (31/138)\u001b[K\rremote: Counting objects:  23% (32/138)\u001b[K\rremote: Counting objects:  24% (34/138)\u001b[K\rremote: Counting objects:  25% (35/138)\u001b[K\rremote: Counting objects:  26% (36/138)\u001b[K\rremote: Counting objects:  27% (38/138)\u001b[K\rremote: Counting objects:  28% (39/138)\u001b[K\rremote: Counting objects:  29% (41/138)\u001b[K\rremote: Counting objects:  30% (42/138)\u001b[K\rremote: Counting objects:  31% (43/138)\u001b[K\rremote: Counting objects:  32% (45/138)\u001b[K\rremote: Counting objects:  33% (46/138)\u001b[K\rremote: Counting objects:  34% (47/138)\u001b[K\rremote: Counting objects:  35% (49/138)\u001b[K\rremote: Counting objects:  36% (50/138)\u001b[K\rremote: Counting objects:  37% (52/138)\u001b[K\rremote: Counting objects:  38% (53/138)\u001b[K\rremote: Counting objects:  39% (54/138)\u001b[K\rremote: Counting objects:  40% (56/138)\u001b[K\rremote: Counting objects:  41% (57/138)\u001b[K\rremote: Counting objects:  42% (58/138)\u001b[K\rremote: Counting objects:  43% (60/138)\u001b[K\rremote: Counting objects:  44% (61/138)\u001b[K\rremote: Counting objects:  45% (63/138)\u001b[K\rremote: Counting objects:  46% (64/138)\u001b[K\rremote: Counting objects:  47% (65/138)\u001b[K\rremote: Counting objects:  48% (67/138)\u001b[K\rremote: Counting objects:  49% (68/138)\u001b[K\rremote: Counting objects:  50% (69/138)\u001b[K\rremote: Counting objects:  51% (71/138)\u001b[K\rremote: Counting objects:  52% (72/138)\u001b[K\rremote: Counting objects:  53% (74/138)\u001b[K\rremote: Counting objects:  54% (75/138)\u001b[K\rremote: Counting objects:  55% (76/138)\u001b[K\rremote: Counting objects:  56% (78/138)\u001b[K\rremote: Counting objects:  57% (79/138)\u001b[K\rremote: Counting objects:  58% (81/138)\u001b[K\rremote: Counting objects:  59% (82/138)\u001b[K\rremote: Counting objects:  60% (83/138)\u001b[K\rremote: Counting objects:  61% (85/138)\u001b[K\rremote: Counting objects:  62% (86/138)\u001b[K\rremote: Counting objects:  63% (87/138)\u001b[K\rremote: Counting objects:  64% (89/138)\u001b[K\rremote: Counting objects:  65% (90/138)\u001b[K\rremote: Counting objects:  66% (92/138)\u001b[K\rremote: Counting objects:  67% (93/138)\u001b[K\rremote: Counting objects:  68% (94/138)\u001b[K\rremote: Counting objects:  69% (96/138)\u001b[K\rremote: Counting objects:  70% (97/138)\u001b[K\rremote: Counting objects:  71% (98/138)\u001b[K\rremote: Counting objects:  72% (100/138)\u001b[K\rremote: Counting objects:  73% (101/138)\u001b[K\rremote: Counting objects:  74% (103/138)\u001b[K\rremote: Counting objects:  75% (104/138)\u001b[K\rremote: Counting objects:  76% (105/138)\u001b[K\rremote: Counting objects:  77% (107/138)\u001b[K\rremote: Counting objects:  78% (108/138)\u001b[K\rremote: Counting objects:  79% (110/138)\u001b[K\rremote: Counting objects:  80% (111/138)\u001b[K\rremote: Counting objects:  81% (112/138)\u001b[K\rremote: Counting objects:  82% (114/138)\u001b[K\rremote: Counting objects:  83% (115/138)\u001b[K\rremote: Counting objects:  84% (116/138)\u001b[K\rremote: Counting objects:  85% (118/138)\u001b[K\rremote: Counting objects:  86% (119/138)\u001b[K\rremote: Counting objects:  87% (121/138)\u001b[K\rremote: Counting objects:  88% (122/138)\u001b[K\rremote: Counting objects:  89% (123/138)\u001b[K\rremote: Counting objects:  90% (125/138)\u001b[K\rremote: Counting objects:  91% (126/138)\u001b[K\rremote: Counting objects:  92% (127/138)\u001b[K\rremote: Counting objects:  93% (129/138)\u001b[K\rremote: Counting objects:  94% (130/138)\u001b[K\rremote: Counting objects:  95% (132/138)\u001b[K\rremote: Counting objects:  96% (133/138)\u001b[K\rremote: Counting objects:  97% (134/138)\u001b[K\rremote: Counting objects:  98% (136/138)\u001b[K\rremote: Counting objects:  99% (137/138)\u001b[K\rremote: Counting objects: 100% (138/138)\u001b[K\rremote: Counting objects: 100% (138/138), done.\u001b[K\n",
            "remote: Compressing objects: 100% (106/106), done.\u001b[K\n",
            "remote: Total 328 (delta 72), reused 84 (delta 32), pack-reused 190\u001b[K\n",
            "Receiving objects: 100% (328/328), 42.23 MiB | 20.64 MiB/s, done.\n",
            "Resolving deltas: 100% (151/151), done.\n",
            "Requirement already satisfied: scikit-learn in /usr/local/lib/python3.6/dist-packages (from -r stepik-dl-nlp/requirements.txt (line 1)) (0.22.2.post1)\n",
            "Collecting spacy-udpipe\n",
            "  Downloading https://files.pythonhosted.org/packages/aa/7d/15db47c4718b8ec8b2feba242957e241f8db8bf3645f5f81c40a55dfb94a/spacy_udpipe-0.2.0-py3-none-any.whl\n",
            "Collecting pymorphy2\n",
            "\u001b[?25l  Downloading https://files.pythonhosted.org/packages/a3/33/fff9675c68b5f6c63ec8c6e6ff57827dda28a1fa5b2c2d727dffff92dd47/pymorphy2-0.8-py2.py3-none-any.whl (46kB)\n",
            "\u001b[K     |████████████████████████████████| 51kB 3.1MB/s \n",
            "\u001b[?25hRequirement already satisfied: torch>=1.2 in /usr/local/lib/python3.6/dist-packages (from -r stepik-dl-nlp/requirements.txt (line 4)) (1.4.0)\n",
            "Requirement already satisfied: matplotlib in /usr/local/lib/python3.6/dist-packages (from -r stepik-dl-nlp/requirements.txt (line 5)) (3.2.1)\n",
            "Collecting ipymarkup\n",
            "  Downloading https://files.pythonhosted.org/packages/86/f5/1482de00d50db6620173a0c289e6f2aff421721b32c014105d942d8b8d33/ipymarkup-0.7.0-py3-none-any.whl\n",
            "Requirement already satisfied: lxml in /usr/local/lib/python3.6/dist-packages (from -r stepik-dl-nlp/requirements.txt (line 7)) (4.2.6)\n",
            "Requirement already satisfied: scipy in /usr/local/lib/python3.6/dist-packages (from -r stepik-dl-nlp/requirements.txt (line 8)) (1.4.1)\n",
            "Requirement already satisfied: pandas in /usr/local/lib/python3.6/dist-packages (from -r stepik-dl-nlp/requirements.txt (line 9)) (1.0.3)\n",
            "Requirement already satisfied: tqdm in /usr/local/lib/python3.6/dist-packages (from -r stepik-dl-nlp/requirements.txt (line 10)) (4.38.0)\n",
            "Collecting youtokentome\n",
            "\u001b[?25l  Downloading https://files.pythonhosted.org/packages/a3/65/4a86cf99da3f680497ae132329025b291e2fda22327e8da6a9476e51acb1/youtokentome-1.0.6-cp36-cp36m-manylinux2010_x86_64.whl (1.7MB)\n",
            "\u001b[K     |████████████████████████████████| 1.7MB 9.0MB/s \n",
            "\u001b[?25hRequirement already satisfied: seaborn in /usr/local/lib/python3.6/dist-packages (from -r stepik-dl-nlp/requirements.txt (line 12)) (0.10.0)\n",
            "Requirement already satisfied: ipykernel in /usr/local/lib/python3.6/dist-packages (from -r stepik-dl-nlp/requirements.txt (line 13)) (4.10.1)\n",
            "Requirement already satisfied: ipython in /usr/local/lib/python3.6/dist-packages (from -r stepik-dl-nlp/requirements.txt (line 14)) (5.5.0)\n",
            "Collecting pyconll\n",
            "  Downloading https://files.pythonhosted.org/packages/2c/6e/c325d0db05ac1b8d45645de903e4ba691d419e861c915c3d4ebfcaf8ac25/pyconll-2.2.1-py3-none-any.whl\n",
            "Requirement already satisfied: numpy>=1.11.0 in /usr/local/lib/python3.6/dist-packages (from scikit-learn->-r stepik-dl-nlp/requirements.txt (line 1)) (1.18.2)\n",
            "Requirement already satisfied: joblib>=0.11 in /usr/local/lib/python3.6/dist-packages (from scikit-learn->-r stepik-dl-nlp/requirements.txt (line 1)) (0.14.1)\n",
            "Collecting ufal.udpipe>=1.2.0\n",
            "\u001b[?25l  Downloading https://files.pythonhosted.org/packages/e5/72/2b8b9dc7c80017c790bb3308bbad34b57accfed2ac2f1f4ab252ff4e9cb2/ufal.udpipe-1.2.0.3.tar.gz (304kB)\n",
            "\u001b[K     |████████████████████████████████| 307kB 35.5MB/s \n",
            "\u001b[?25hRequirement already satisfied: spacy>=2.1.0 in /usr/local/lib/python3.6/dist-packages (from spacy-udpipe->-r stepik-dl-nlp/requirements.txt (line 2)) (2.2.4)\n",
            "Collecting dawg-python>=0.7\n",
            "  Downloading https://files.pythonhosted.org/packages/6a/84/ff1ce2071d4c650ec85745766c0047ccc3b5036f1d03559fd46bb38b5eeb/DAWG_Python-0.7.2-py2.py3-none-any.whl\n",
            "Requirement already satisfied: docopt>=0.6 in /usr/local/lib/python3.6/dist-packages (from pymorphy2->-r stepik-dl-nlp/requirements.txt (line 3)) (0.6.2)\n",
            "Collecting pymorphy2-dicts<3.0,>=2.4\n",
            "\u001b[?25l  Downloading https://files.pythonhosted.org/packages/02/51/2465fd4f72328ab50877b54777764d928da8cb15b74e2680fc1bd8cb3173/pymorphy2_dicts-2.4.393442.3710985-py2.py3-none-any.whl (7.1MB)\n",
            "\u001b[K     |████████████████████████████████| 7.1MB 26.6MB/s \n",
            "\u001b[?25hRequirement already satisfied: kiwisolver>=1.0.1 in /usr/local/lib/python3.6/dist-packages (from matplotlib->-r stepik-dl-nlp/requirements.txt (line 5)) (1.2.0)\n",
            "Requirement already satisfied: python-dateutil>=2.1 in /usr/local/lib/python3.6/dist-packages (from matplotlib->-r stepik-dl-nlp/requirements.txt (line 5)) (2.8.1)\n",
            "Requirement already satisfied: cycler>=0.10 in /usr/local/lib/python3.6/dist-packages (from matplotlib->-r stepik-dl-nlp/requirements.txt (line 5)) (0.10.0)\n",
            "Requirement already satisfied: pyparsing!=2.0.4,!=2.1.2,!=2.1.6,>=2.0.1 in /usr/local/lib/python3.6/dist-packages (from matplotlib->-r stepik-dl-nlp/requirements.txt (line 5)) (2.4.7)\n",
            "Collecting intervaltree>=3\n",
            "  Downloading https://files.pythonhosted.org/packages/e8/f9/76237755b2020cd74549e98667210b2dd54d3fb17c6f4a62631e61d31225/intervaltree-3.0.2.tar.gz\n",
            "Requirement already satisfied: pytz>=2017.2 in /usr/local/lib/python3.6/dist-packages (from pandas->-r stepik-dl-nlp/requirements.txt (line 9)) (2018.9)\n",
            "Requirement already satisfied: Click>=7.0 in /usr/local/lib/python3.6/dist-packages (from youtokentome->-r stepik-dl-nlp/requirements.txt (line 11)) (7.1.1)\n",
            "Requirement already satisfied: traitlets>=4.1.0 in /usr/local/lib/python3.6/dist-packages (from ipykernel->-r stepik-dl-nlp/requirements.txt (line 13)) (4.3.3)\n",
            "Requirement already satisfied: jupyter-client in /usr/local/lib/python3.6/dist-packages (from ipykernel->-r stepik-dl-nlp/requirements.txt (line 13)) (5.3.4)\n",
            "Requirement already satisfied: tornado>=4.0 in /usr/local/lib/python3.6/dist-packages (from ipykernel->-r stepik-dl-nlp/requirements.txt (line 13)) (4.5.3)\n",
            "Requirement already satisfied: pygments in /usr/local/lib/python3.6/dist-packages (from ipython->-r stepik-dl-nlp/requirements.txt (line 14)) (2.1.3)\n",
            "Requirement already satisfied: setuptools>=18.5 in /usr/local/lib/python3.6/dist-packages (from ipython->-r stepik-dl-nlp/requirements.txt (line 14)) (46.1.3)\n",
            "Requirement already satisfied: pickleshare in /usr/local/lib/python3.6/dist-packages (from ipython->-r stepik-dl-nlp/requirements.txt (line 14)) (0.7.5)\n",
            "Requirement already satisfied: simplegeneric>0.8 in /usr/local/lib/python3.6/dist-packages (from ipython->-r stepik-dl-nlp/requirements.txt (line 14)) (0.8.1)\n",
            "Requirement already satisfied: pexpect; sys_platform != \"win32\" in /usr/local/lib/python3.6/dist-packages (from ipython->-r stepik-dl-nlp/requirements.txt (line 14)) (4.8.0)\n",
            "Requirement already satisfied: prompt-toolkit<2.0.0,>=1.0.4 in /usr/local/lib/python3.6/dist-packages (from ipython->-r stepik-dl-nlp/requirements.txt (line 14)) (1.0.18)\n",
            "Requirement already satisfied: decorator in /usr/local/lib/python3.6/dist-packages (from ipython->-r stepik-dl-nlp/requirements.txt (line 14)) (4.4.2)\n",
            "Requirement already satisfied: requests>=2.21 in /usr/local/lib/python3.6/dist-packages (from pyconll->-r stepik-dl-nlp/requirements.txt (line 15)) (2.21.0)\n",
            "Requirement already satisfied: srsly<1.1.0,>=1.0.2 in /usr/local/lib/python3.6/dist-packages (from spacy>=2.1.0->spacy-udpipe->-r stepik-dl-nlp/requirements.txt (line 2)) (1.0.2)\n",
            "Requirement already satisfied: wasabi<1.1.0,>=0.4.0 in /usr/local/lib/python3.6/dist-packages (from spacy>=2.1.0->spacy-udpipe->-r stepik-dl-nlp/requirements.txt (line 2)) (0.6.0)\n",
            "Requirement already satisfied: cymem<2.1.0,>=2.0.2 in /usr/local/lib/python3.6/dist-packages (from spacy>=2.1.0->spacy-udpipe->-r stepik-dl-nlp/requirements.txt (line 2)) (2.0.3)\n",
            "Requirement already satisfied: catalogue<1.1.0,>=0.0.7 in /usr/local/lib/python3.6/dist-packages (from spacy>=2.1.0->spacy-udpipe->-r stepik-dl-nlp/requirements.txt (line 2)) (1.0.0)\n",
            "Requirement already satisfied: preshed<3.1.0,>=3.0.2 in /usr/local/lib/python3.6/dist-packages (from spacy>=2.1.0->spacy-udpipe->-r stepik-dl-nlp/requirements.txt (line 2)) (3.0.2)\n",
            "Requirement already satisfied: murmurhash<1.1.0,>=0.28.0 in /usr/local/lib/python3.6/dist-packages (from spacy>=2.1.0->spacy-udpipe->-r stepik-dl-nlp/requirements.txt (line 2)) (1.0.2)\n",
            "Requirement already satisfied: plac<1.2.0,>=0.9.6 in /usr/local/lib/python3.6/dist-packages (from spacy>=2.1.0->spacy-udpipe->-r stepik-dl-nlp/requirements.txt (line 2)) (1.1.3)\n",
            "Requirement already satisfied: thinc==7.4.0 in /usr/local/lib/python3.6/dist-packages (from spacy>=2.1.0->spacy-udpipe->-r stepik-dl-nlp/requirements.txt (line 2)) (7.4.0)\n",
            "Requirement already satisfied: blis<0.5.0,>=0.4.0 in /usr/local/lib/python3.6/dist-packages (from spacy>=2.1.0->spacy-udpipe->-r stepik-dl-nlp/requirements.txt (line 2)) (0.4.1)\n",
            "Requirement already satisfied: six>=1.5 in /usr/local/lib/python3.6/dist-packages (from python-dateutil>=2.1->matplotlib->-r stepik-dl-nlp/requirements.txt (line 5)) (1.12.0)\n",
            "Requirement already satisfied: sortedcontainers<3.0,>=2.0 in /usr/local/lib/python3.6/dist-packages (from intervaltree>=3->ipymarkup->-r stepik-dl-nlp/requirements.txt (line 6)) (2.1.0)\n",
            "Requirement already satisfied: ipython-genutils in /usr/local/lib/python3.6/dist-packages (from traitlets>=4.1.0->ipykernel->-r stepik-dl-nlp/requirements.txt (line 13)) (0.2.0)\n",
            "Requirement already satisfied: jupyter-core>=4.6.0 in /usr/local/lib/python3.6/dist-packages (from jupyter-client->ipykernel->-r stepik-dl-nlp/requirements.txt (line 13)) (4.6.3)\n",
            "Requirement already satisfied: pyzmq>=13 in /usr/local/lib/python3.6/dist-packages (from jupyter-client->ipykernel->-r stepik-dl-nlp/requirements.txt (line 13)) (19.0.0)\n",
            "Requirement already satisfied: ptyprocess>=0.5 in /usr/local/lib/python3.6/dist-packages (from pexpect; sys_platform != \"win32\"->ipython->-r stepik-dl-nlp/requirements.txt (line 14)) (0.6.0)\n",
            "Requirement already satisfied: wcwidth in /usr/local/lib/python3.6/dist-packages (from prompt-toolkit<2.0.0,>=1.0.4->ipython->-r stepik-dl-nlp/requirements.txt (line 14)) (0.1.9)\n",
            "Requirement already satisfied: idna<2.9,>=2.5 in /usr/local/lib/python3.6/dist-packages (from requests>=2.21->pyconll->-r stepik-dl-nlp/requirements.txt (line 15)) (2.8)\n",
            "Requirement already satisfied: chardet<3.1.0,>=3.0.2 in /usr/local/lib/python3.6/dist-packages (from requests>=2.21->pyconll->-r stepik-dl-nlp/requirements.txt (line 15)) (3.0.4)\n",
            "Requirement already satisfied: certifi>=2017.4.17 in /usr/local/lib/python3.6/dist-packages (from requests>=2.21->pyconll->-r stepik-dl-nlp/requirements.txt (line 15)) (2020.4.5.1)\n",
            "Requirement already satisfied: urllib3<1.25,>=1.21.1 in /usr/local/lib/python3.6/dist-packages (from requests>=2.21->pyconll->-r stepik-dl-nlp/requirements.txt (line 15)) (1.24.3)\n",
            "Requirement already satisfied: importlib-metadata>=0.20; python_version < \"3.8\" in /usr/local/lib/python3.6/dist-packages (from catalogue<1.1.0,>=0.0.7->spacy>=2.1.0->spacy-udpipe->-r stepik-dl-nlp/requirements.txt (line 2)) (1.6.0)\n",
            "Requirement already satisfied: zipp>=0.5 in /usr/local/lib/python3.6/dist-packages (from importlib-metadata>=0.20; python_version < \"3.8\"->catalogue<1.1.0,>=0.0.7->spacy>=2.1.0->spacy-udpipe->-r stepik-dl-nlp/requirements.txt (line 2)) (3.1.0)\n",
            "Building wheels for collected packages: ufal.udpipe, intervaltree\n",
            "  Building wheel for ufal.udpipe (setup.py) ... \u001b[?25l\u001b[?25hdone\n",
            "  Created wheel for ufal.udpipe: filename=ufal.udpipe-1.2.0.3-cp36-cp36m-linux_x86_64.whl size=5625242 sha256=1f4d9b94aba706e874645275a39f6cd638ddcc1047f0d6e2a4bdac8935d35f8b\n",
            "  Stored in directory: /root/.cache/pip/wheels/0c/9d/db/6d3404c33da5b7adb6c6972853efb6a27649d3ba15f7e9bebb\n",
            "  Building wheel for intervaltree (setup.py) ... \u001b[?25l\u001b[?25hdone\n",
            "  Created wheel for intervaltree: filename=intervaltree-3.0.2-cp36-none-any.whl size=25791 sha256=0d3347835431c3a8ea22325f7fc12e58dd2da578404fa09becc9fc3ffd8bb9c2\n",
            "  Stored in directory: /root/.cache/pip/wheels/08/99/c0/5a5942f5b9567c59c14aac76f95a70bf11dccc71240b91ebf5\n",
            "Successfully built ufal.udpipe intervaltree\n",
            "Installing collected packages: ufal.udpipe, spacy-udpipe, dawg-python, pymorphy2-dicts, pymorphy2, intervaltree, ipymarkup, youtokentome, pyconll\n",
            "  Found existing installation: intervaltree 2.1.0\n",
            "    Uninstalling intervaltree-2.1.0:\n",
            "      Successfully uninstalled intervaltree-2.1.0\n",
            "Successfully installed dawg-python-0.7.2 intervaltree-3.0.2 ipymarkup-0.7.0 pyconll-2.2.1 pymorphy2-0.8 pymorphy2-dicts-2.4.393442.3710985 spacy-udpipe-0.2.0 ufal.udpipe-1.2.0.3 youtokentome-1.0.6\n"
          ],
          "name": "stdout"
        }
      ]
    },
    {
      "cell_type": "code",
      "metadata": {
        "ExecuteTime": {
          "end_time": "2019-09-12T12:42:57.265628Z",
          "start_time": "2019-09-12T12:42:55.188211Z"
        },
        "colab_type": "code",
        "id": "5WoSijeBgx22",
        "colab": {}
      },
      "source": [
        "import warnings\n",
        "warnings.filterwarnings('ignore')\n",
        "\n",
        "from collections import Counter\n",
        "\n",
        "from sklearn.datasets import fetch_20newsgroups\n",
        "from sklearn.metrics import accuracy_score\n",
        "\n",
        "import scipy.sparse\n",
        "import numpy as np\n",
        "\n",
        "import matplotlib.pyplot as plt\n",
        "%matplotlib inline\n",
        "\n",
        "import collections\n",
        "\n",
        "import torch\n",
        "from torch import nn\n",
        "from torch.nn import functional as F\n",
        "\n",
        "import dlnlputils\n",
        "from dlnlputils.data import tokenize_text_simple_regex, tokenize_corpus, build_vocabulary, \\\n",
        "    vectorize_texts, SparseFeaturesDataset, document_word_occurences, pmi\n",
        "from dlnlputils.pipeline import train_eval_loop, predict_with_model, init_random_seed\n",
        "\n",
        "init_random_seed()"
      ],
      "execution_count": 0,
      "outputs": []
    },
    {
      "cell_type": "markdown",
      "metadata": {
        "colab_type": "text",
        "id": "RJnAs9qcgx26"
      },
      "source": [
        "## Предобработка текстов и подготовка признаков"
      ]
    },
    {
      "cell_type": "code",
      "metadata": {
        "ExecuteTime": {
          "end_time": "2019-09-12T12:42:57.847399Z",
          "start_time": "2019-09-12T12:42:57.268037Z"
        },
        "colab_type": "code",
        "id": "meFZZSF2gx27",
        "outputId": "057e7d95-796a-48f9-e4ef-1db9aca506e1",
        "colab": {
          "base_uri": "https://localhost:8080/",
          "height": 425
        }
      },
      "source": [
        "train_source = fetch_20newsgroups(subset='train')\n",
        "test_source = fetch_20newsgroups(subset='test')\n",
        "\n",
        "print('Количество обучающих текстов', len(train_source['data']))\n",
        "print('Количество тестовых текстов', len(test_source['data']))\n",
        "print()\n",
        "print(train_source['data'][0].strip())\n",
        "\n",
        "print()\n",
        "print('Метка', train_source['target'][0])"
      ],
      "execution_count": 3,
      "outputs": [
        {
          "output_type": "stream",
          "text": [
            "Downloading 20news dataset. This may take a few minutes.\n",
            "Downloading dataset from https://ndownloader.figshare.com/files/5975967 (14 MB)\n"
          ],
          "name": "stderr"
        },
        {
          "output_type": "stream",
          "text": [
            "Количество обучающих текстов 11314\n",
            "Количество тестовых текстов 7532\n",
            "\n",
            "From: lerxst@wam.umd.edu (where's my thing)\n",
            "Subject: WHAT car is this!?\n",
            "Nntp-Posting-Host: rac3.wam.umd.edu\n",
            "Organization: University of Maryland, College Park\n",
            "Lines: 15\n",
            "\n",
            " I was wondering if anyone out there could enlighten me on this car I saw\n",
            "the other day. It was a 2-door sports car, looked to be from the late 60s/\n",
            "early 70s. It was called a Bricklin. The doors were really small. In addition,\n",
            "the front bumper was separate from the rest of the body. This is \n",
            "all I know. If anyone can tellme a model name, engine specs, years\n",
            "of production, where this car is made, history, or whatever info you\n",
            "have on this funky looking car, please e-mail.\n",
            "\n",
            "Thanks,\n",
            "- IL\n",
            "   ---- brought to you by your neighborhood Lerxst ----\n",
            "\n",
            "Метка 7\n"
          ],
          "name": "stdout"
        }
      ]
    },
    {
      "cell_type": "markdown",
      "metadata": {
        "colab_type": "text",
        "id": "9feVDN3wgx2_"
      },
      "source": [
        "### Подготовка признаков"
      ]
    },
    {
      "cell_type": "code",
      "metadata": {
        "ExecuteTime": {
          "end_time": "2019-09-12T12:43:00.294422Z",
          "start_time": "2019-09-12T12:42:57.849386Z"
        },
        "colab_type": "code",
        "id": "zgk8RrQ1gx3A",
        "outputId": "cc5d2960-4b11-4831-a843-15332caebfa0",
        "colab": {
          "base_uri": "https://localhost:8080/",
          "height": 54
        }
      },
      "source": [
        "train_tokenized = tokenize_corpus(train_source['data'])\n",
        "test_tokenized = tokenize_corpus(test_source['data'])\n",
        "\n",
        "print(' '.join(train_tokenized[0]))"
      ],
      "execution_count": 4,
      "outputs": [
        {
          "output_type": "stream",
          "text": [
            "from lerxst where thing subject what this nntp posting host rac3 organization university maryland college park lines wondering anyone there could enlighten this other door sports looked from late early called bricklin doors were really small addition front bumper separate from rest body this know anyone tellme model name engine specs years production where this made history whatever info have this funky looking please mail thanks brought your neighborhood lerxst\n"
          ],
          "name": "stdout"
        }
      ]
    },
    {
      "cell_type": "code",
      "metadata": {
        "ExecuteTime": {
          "end_time": "2019-09-12T12:43:00.825372Z",
          "start_time": "2019-09-12T12:43:00.297392Z"
        },
        "colab_type": "code",
        "id": "crkYArYagx3D",
        "outputId": "1152b85e-cfab-4ea2-db79-27a917450334",
        "colab": {
          "base_uri": "https://localhost:8080/",
          "height": 71
        }
      },
      "source": [
        "MAX_DF = 0.8\n",
        "MIN_COUNT = 5\n",
        "vocabulary, word_doc_freq = build_vocabulary(train_tokenized, max_doc_freq=MAX_DF, min_count=MIN_COUNT)\n",
        "UNIQUE_WORDS_N = len(vocabulary)\n",
        "print('Количество уникальных токенов', UNIQUE_WORDS_N)\n",
        "print(list(vocabulary.items())[:10])"
      ],
      "execution_count": 6,
      "outputs": [
        {
          "output_type": "stream",
          "text": [
            "Количество уникальных токенов 21628\n",
            "[('that', 0), ('this', 1), ('have', 2), ('with', 3), ('writes', 4), ('article', 5), ('posting', 6), ('host', 7), ('nntp', 8), ('there', 9)]\n"
          ],
          "name": "stdout"
        }
      ]
    },
    {
      "cell_type": "code",
      "metadata": {
        "ExecuteTime": {
          "end_time": "2019-09-12T12:43:01.524600Z",
          "start_time": "2019-09-12T12:43:00.829107Z"
        },
        "colab_type": "code",
        "id": "ptTaDpJzgx3H",
        "outputId": "b686ab13-3006-47cb-c81b-5df0c54f6f38",
        "colab": {
          "base_uri": "https://localhost:8080/",
          "height": 281
        }
      },
      "source": [
        "plt.hist(word_doc_freq, bins=20)\n",
        "plt.title('Распределение относительных частот слов')\n",
        "plt.yscale('log');"
      ],
      "execution_count": 7,
      "outputs": [
        {
          "output_type": "display_data",
          "data": {
            "image/png": "[encoded data removed]",
            "text/plain": [
              "<Figure size 432x288 with 1 Axes>"
            ]
          },
          "metadata": {
            "tags": [],
            "needs_background": "light"
          }
        }
      ]
    },
    {
      "cell_type": "code",
      "metadata": {
        "id": "eCzbtXrsDGUq",
        "colab_type": "code",
        "colab": {
          "base_uri": "https://localhost:8080/",
          "height": 34
        },
        "outputId": "439144b8-17ff-4b0b-ba40-68233c09076e"
      },
      "source": [
        "%cd stepik-dl-nlp/"
      ],
      "execution_count": 11,
      "outputs": [
        {
          "output_type": "stream",
          "text": [
            "/content/stepik-dl-nlp\n"
          ],
          "name": "stdout"
        }
      ]
    },
    {
      "cell_type": "code",
      "metadata": {
        "id": "6_pxsg9zDAk7",
        "colab_type": "code",
        "colab": {
          "base_uri": "https://localhost:8080/",
          "height": 238
        },
        "outputId": "de5b0c5c-5fe6-4766-b990-44accafeaa11"
      },
      "source": [
        "!git pull origin master"
      ],
      "execution_count": 12,
      "outputs": [
        {
          "output_type": "stream",
          "text": [
            "remote: Enumerating objects: 11, done.\u001b[K\n",
            "remote: Counting objects:   9% (1/11)\u001b[K\rremote: Counting objects:  18% (2/11)\u001b[K\rremote: Counting objects:  27% (3/11)\u001b[K\rremote: Counting objects:  36% (4/11)\u001b[K\rremote: Counting objects:  45% (5/11)\u001b[K\rremote: Counting objects:  54% (6/11)\u001b[K\rremote: Counting objects:  63% (7/11)\u001b[K\rremote: Counting objects:  72% (8/11)\u001b[K\rremote: Counting objects:  81% (9/11)\u001b[K\rremote: Counting objects:  90% (10/11)\u001b[K\rremote: Counting objects: 100% (11/11)\u001b[K\rremote: Counting objects: 100% (11/11), done.\u001b[K\n",
            "remote: Compressing objects: 100% (1/1)\u001b[K\rremote: Compressing objects: 100% (1/1), done.\u001b[K\n",
            "remote: Total 6 (delta 5), reused 6 (delta 5), pack-reused 0\u001b[K\n",
            "Unpacking objects:  16% (1/6)   \rUnpacking objects:  33% (2/6)   \rUnpacking objects:  50% (3/6)   \rUnpacking objects:  66% (4/6)   \rUnpacking objects:  83% (5/6)   \rUnpacking objects: 100% (6/6)   \rUnpacking objects: 100% (6/6), done.\n",
            "From https://github.com/trex18/stepik-dl-nlp\n",
            " * branch            master     -> FETCH_HEAD\n",
            "   ab3b758..77ef105  master     -> origin/master\n",
            "Updating ab3b758..77ef105\n",
            "error: Your local changes to the following files would be overwritten by merge:\n",
            "\tdlnlputils/data/base.py\n",
            "Please commit your changes or stash them before you merge.\n",
            "Aborting\n"
          ],
          "name": "stdout"
        }
      ]
    },
    {
      "cell_type": "code",
      "metadata": {
        "id": "gKkfHzQErtwe",
        "colab_type": "code",
        "colab": {}
      },
      "source": [
        "%reload_ext autoreload"
      ],
      "execution_count": 0,
      "outputs": []
    },
    {
      "cell_type": "code",
      "metadata": {
        "id": "6QUeUcw9sY-A",
        "colab_type": "code",
        "colab": {}
      },
      "source": [
        "%autoreload 2"
      ],
      "execution_count": 0,
      "outputs": []
    },
    {
      "cell_type": "code",
      "metadata": {
        "colab_type": "code",
        "id": "eNXXeRJ9WFr2",
        "outputId": "a7940973-b9c0-45fc-85d7-9e317ee9a5ee",
        "colab": {
          "base_uri": "https://localhost:8080/",
          "height": 302
        }
      },
      "source": [
        "doc_word_occurs = document_word_occurences(train_tokenized, vocabulary, train_source['target'], 20).todense()"
      ],
      "execution_count": 8,
      "outputs": [
        {
          "output_type": "error",
          "ename": "NameError",
          "evalue": "ignored",
          "traceback": [
            "\u001b[0;31m---------------------------------------------------------------------------\u001b[0m",
            "\u001b[0;31mNameError\u001b[0m                                 Traceback (most recent call last)",
            "\u001b[0;32m<ipython-input-8-80de4c560c1a>\u001b[0m in \u001b[0;36m<module>\u001b[0;34m()\u001b[0m\n\u001b[0;32m----> 1\u001b[0;31m \u001b[0mdoc_word_occurs\u001b[0m \u001b[0;34m=\u001b[0m \u001b[0mdocument_word_occurences\u001b[0m\u001b[0;34m(\u001b[0m\u001b[0mtrain_tokenized\u001b[0m\u001b[0;34m,\u001b[0m \u001b[0mvocabulary\u001b[0m\u001b[0;34m,\u001b[0m \u001b[0mtrain_source\u001b[0m\u001b[0;34m[\u001b[0m\u001b[0;34m'target'\u001b[0m\u001b[0;34m]\u001b[0m\u001b[0;34m,\u001b[0m \u001b[0;36m20\u001b[0m\u001b[0;34m)\u001b[0m\u001b[0;34m.\u001b[0m\u001b[0mtodense\u001b[0m\u001b[0;34m(\u001b[0m\u001b[0;34m)\u001b[0m\u001b[0;34m\u001b[0m\u001b[0;34m\u001b[0m\u001b[0m\n\u001b[0m",
            "\u001b[0;32m/content/stepik-dl-nlp/dlnlputils/data/base.py\u001b[0m in \u001b[0;36mdocument_word_occurences\u001b[0;34m(tokenized_texts, word2id, labels, n_classes)\u001b[0m\n\u001b[1;32m     74\u001b[0m     \u001b[0mA\u001b[0m\u001b[0;34m[\u001b[0m\u001b[0mL\u001b[0m\u001b[0;34m,\u001b[0m \u001b[0mw\u001b[0m\u001b[0;34m]\u001b[0m \u001b[0;34m=\u001b[0m \u001b[0mword\u001b[0m \u001b[0mw\u001b[0m \u001b[0;32mis\u001b[0m \u001b[0mcontained\u001b[0m \u001b[0;32min\u001b[0m \u001b[0mA\u001b[0m\u001b[0;34m[\u001b[0m\u001b[0mL\u001b[0m\u001b[0;34m,\u001b[0m \u001b[0mw\u001b[0m\u001b[0;34m]\u001b[0m \u001b[0mdocuments\u001b[0m \u001b[0mof\u001b[0m \u001b[0;32mclass\u001b[0m \u001b[0mL\u001b[0m\u001b[0;34m\u001b[0m\u001b[0;34m\u001b[0m\u001b[0m\n\u001b[1;32m     75\u001b[0m     \"\"\"\n\u001b[0;32m---> 76\u001b[0;31m     \u001b[0mresult\u001b[0m \u001b[0;34m=\u001b[0m \u001b[0mscipy\u001b[0m\u001b[0;34m.\u001b[0m\u001b[0msparse\u001b[0m\u001b[0;34m.\u001b[0m\u001b[0mdok_matrix\u001b[0m\u001b[0;34m(\u001b[0m\u001b[0mn_classes\u001b[0m\u001b[0;34m,\u001b[0m \u001b[0mlen\u001b[0m\u001b[0;34m(\u001b[0m\u001b[0mword2id\u001b[0m\u001b[0;34m)\u001b[0m\u001b[0;34m,\u001b[0m \u001b[0mdtype\u001b[0m\u001b[0;34m=\u001b[0m\u001b[0mnp\u001b[0m\u001b[0;34m.\u001b[0m\u001b[0mfloat32\u001b[0m\u001b[0;34m)\u001b[0m\u001b[0;34m\u001b[0m\u001b[0;34m\u001b[0m\u001b[0m\n\u001b[0m\u001b[1;32m     77\u001b[0m     \u001b[0;32mfor\u001b[0m \u001b[0mtext_id\u001b[0m\u001b[0;34m,\u001b[0m \u001b[0mtext\u001b[0m \u001b[0;32min\u001b[0m \u001b[0menumerate\u001b[0m\u001b[0;34m(\u001b[0m\u001b[0mtokenized_texts\u001b[0m\u001b[0;34m)\u001b[0m\u001b[0;34m:\u001b[0m\u001b[0;34m\u001b[0m\u001b[0;34m\u001b[0m\u001b[0m\n\u001b[1;32m     78\u001b[0m         \u001b[0munique_tokens\u001b[0m \u001b[0;34m=\u001b[0m \u001b[0mset\u001b[0m\u001b[0;34m(\u001b[0m\u001b[0mtext\u001b[0m\u001b[0;34m)\u001b[0m\u001b[0;34m\u001b[0m\u001b[0;34m\u001b[0m\u001b[0m\n",
            "\u001b[0;31mNameError\u001b[0m: name 'scipy' is not defined"
          ]
        }
      ]
    },
    {
      "cell_type": "code",
      "metadata": {
        "id": "8DJn1NiBmp38",
        "colab_type": "code",
        "colab": {}
      },
      "source": [
        "pmi1, pmi2 = pmi(doc_word_occurs, train_source['target'])"
      ],
      "execution_count": 0,
      "outputs": []
    },
    {
      "cell_type": "code",
      "metadata": {
        "id": "VMcyae1s44Wl",
        "colab_type": "code",
        "colab": {
          "base_uri": "https://localhost:8080/",
          "height": 238
        },
        "outputId": "5b17bb1e-9ef1-42bf-e52f-c622e891cf3e"
      },
      "source": [
        "pmi1"
      ],
      "execution_count": 150,
      "outputs": [
        {
          "output_type": "execute_result",
          "data": {
            "text/plain": [
              "matrix([[29.40920052, 26.61579033, 26.23499647, ...,  0.        ,\n",
              "          0.        ,  0.        ],\n",
              "        [14.85365747, 16.49110419, 17.0499964 , ...,  0.        ,\n",
              "          0.        ,  0.        ],\n",
              "        [16.28826674, 16.80288572, 18.94861794, ...,  0.        ,\n",
              "          0.        ,  0.        ],\n",
              "        ...,\n",
              "        [24.0645166 , 21.70261657, 21.58801161, ...,  0.        ,\n",
              "          0.        ,  0.        ],\n",
              "        [29.19382676, 29.66557118, 27.42408778, ...,  0.        ,\n",
              "          0.        ,  0.        ],\n",
              "        [35.64317628, 31.49912559, 33.10768458, ...,  0.        ,\n",
              "          0.        ,  0.        ]])"
            ]
          },
          "metadata": {
            "tags": []
          },
          "execution_count": 150
        }
      ]
    },
    {
      "cell_type": "code",
      "metadata": {
        "id": "kRsTMGIWCwhi",
        "colab_type": "code",
        "colab": {}
      },
      "source": [
        "doc_word_occurs_1 = doc_word_occurs.tocsr()\n",
        "aa = doc_word_occurs_1.sum(0)"
      ],
      "execution_count": 0,
      "outputs": []
    },
    {
      "cell_type": "code",
      "metadata": {
        "id": "s04Ie6RyDKhQ",
        "colab_type": "code",
        "colab": {
          "base_uri": "https://localhost:8080/",
          "height": 51
        },
        "outputId": "e17e709b-8833-4851-e48e-92f7cebc7180"
      },
      "source": [
        "aa[0]"
      ],
      "execution_count": 146,
      "outputs": [
        {
          "output_type": "execute_result",
          "data": {
            "text/plain": [
              "matrix([[8.010e+03, 6.805e+03, 6.692e+03, ..., 5.000e+00, 5.000e+00,\n",
              "         5.000e+00]], dtype=float32)"
            ]
          },
          "metadata": {
            "tags": []
          },
          "execution_count": 146
        }
      ]
    },
    {
      "cell_type": "code",
      "metadata": {
        "id": "6dwVV62g4bFU",
        "colab_type": "code",
        "colab": {}
      },
      "source": [
        "labels = train_source['target']"
      ],
      "execution_count": 0,
      "outputs": []
    },
    {
      "cell_type": "code",
      "metadata": {
        "id": "3YKEQDDv5Z2P",
        "colab_type": "code",
        "colab": {}
      },
      "source": [
        "from collections import Counter\n",
        "cnt = Counter(labels)"
      ],
      "execution_count": 0,
      "outputs": []
    },
    {
      "cell_type": "code",
      "metadata": {
        "id": "fC62XvSx5yKP",
        "colab_type": "code",
        "colab": {
          "base_uri": "https://localhost:8080/",
          "height": 357
        },
        "outputId": "a0e961d2-6209-4a3c-a36c-6196f1c17818"
      },
      "source": [
        "cnt"
      ],
      "execution_count": 76,
      "outputs": [
        {
          "output_type": "execute_result",
          "data": {
            "text/plain": [
              "Counter({0: 480,\n",
              "         1: 584,\n",
              "         2: 591,\n",
              "         3: 590,\n",
              "         4: 578,\n",
              "         5: 593,\n",
              "         6: 585,\n",
              "         7: 594,\n",
              "         8: 598,\n",
              "         9: 597,\n",
              "         10: 600,\n",
              "         11: 595,\n",
              "         12: 591,\n",
              "         13: 594,\n",
              "         14: 593,\n",
              "         15: 599,\n",
              "         16: 546,\n",
              "         17: 564,\n",
              "         18: 465,\n",
              "         19: 377})"
            ]
          },
          "metadata": {
            "tags": []
          },
          "execution_count": 76
        }
      ]
    },
    {
      "cell_type": "code",
      "metadata": {
        "id": "B_D9N0nJ5nbH",
        "colab_type": "code",
        "colab": {}
      },
      "source": [
        "counts = np.array([cnt[i] for i in sorted(cnt.keys())])"
      ],
      "execution_count": 0,
      "outputs": []
    },
    {
      "cell_type": "code",
      "metadata": {
        "id": "XftQyr6P8eZQ",
        "colab_type": "code",
        "colab": {
          "base_uri": "https://localhost:8080/",
          "height": 51
        },
        "outputId": "a7b21d53-2102-47a4-8794-3fbc008917db"
      },
      "source": [
        "counts"
      ],
      "execution_count": 59,
      "outputs": [
        {
          "output_type": "execute_result",
          "data": {
            "text/plain": [
              "array([480, 584, 591, 590, 578, 593, 585, 594, 598, 597, 600, 595, 591,\n",
              "       594, 593, 599, 546, 564, 465, 377])"
            ]
          },
          "metadata": {
            "tags": []
          },
          "execution_count": 59
        }
      ]
    },
    {
      "cell_type": "code",
      "metadata": {
        "id": "2edENp9Q8OWc",
        "colab_type": "code",
        "colab": {
          "base_uri": "https://localhost:8080/",
          "height": 85
        },
        "outputId": "2641c651-5d87-4d0d-c5cd-06712811f215"
      },
      "source": [
        "counts / counts.sum()"
      ],
      "execution_count": 58,
      "outputs": [
        {
          "output_type": "execute_result",
          "data": {
            "text/plain": [
              "array([0.04242531, 0.05161747, 0.05223617, 0.05214778, 0.05108715,\n",
              "       0.05241294, 0.05170585, 0.05250133, 0.05285487, 0.05276648,\n",
              "       0.05303164, 0.05258971, 0.05223617, 0.05250133, 0.05241294,\n",
              "       0.05294326, 0.04825879, 0.04984974, 0.04109952, 0.03332155])"
            ]
          },
          "metadata": {
            "tags": []
          },
          "execution_count": 58
        }
      ]
    },
    {
      "cell_type": "code",
      "metadata": {
        "ExecuteTime": {
          "end_time": "2019-09-12T12:44:16.094816Z",
          "start_time": "2019-09-12T12:43:01.526554Z"
        },
        "colab_type": "code",
        "id": "dgiHiMg_gx3L",
        "outputId": "4a66e591-1909-4a69-cfcf-33adc4e93951",
        "colab": {
          "base_uri": "https://localhost:8080/",
          "height": 153
        }
      },
      "source": [
        "VECTORIZATION_MODE = 'tfidf'\n",
        "train_vectors = vectorize_texts(train_tokenized, vocabulary, word_doc_freq, mode=VECTORIZATION_MODE)\n",
        "test_vectors = vectorize_texts(test_tokenized, vocabulary, word_doc_freq, mode=VECTORIZATION_MODE)\n",
        "\n",
        "print('Размерность матрицы признаков обучающей выборки', train_vectors.shape)\n",
        "print('Размерность матрицы признаков тестовой выборки', train_vectors.shape)\n",
        "print()\n",
        "print('Количество ненулевых элементов в обучающей выборке', train_vectors.nnz)\n",
        "print('Процент заполненности матрицы признаков {:.2f}%'.format(train_vectors.nnz * 100 / (train_vectors.shape[0] * train_vectors.shape[1])))\n",
        "print()\n",
        "print('Количество ненулевых элементов в обучающей выборке', test_vectors.nnz)\n",
        "print('Процент заполненности матрицы признаков {:.2f}%'.format(test_vectors.nnz * 100 / (test_vectors.shape[0] * test_vectors.shape[1])))"
      ],
      "execution_count": 8,
      "outputs": [
        {
          "output_type": "stream",
          "text": [
            "Размерность матрицы признаков обучающей выборки (11314, 21628)\n",
            "Размерность матрицы признаков тестовой выборки (11314, 21628)\n",
            "\n",
            "Количество ненулевых элементов в обучающей выборке 1126792\n",
            "Процент заполненности матрицы признаков 0.46%\n",
            "\n",
            "Количество ненулевых элементов в обучающей выборке 721529\n",
            "Процент заполненности матрицы признаков 0.44%\n"
          ],
          "name": "stdout"
        }
      ]
    },
    {
      "cell_type": "code",
      "metadata": {
        "ExecuteTime": {
          "end_time": "2019-09-12T12:44:16.857114Z",
          "start_time": "2019-09-12T12:44:16.098773Z"
        },
        "colab_type": "code",
        "id": "FDPM2pjFgx3P",
        "outputId": "23c354c7-a4c8-4831-d2c4-1a876184c896",
        "colab": {
          "base_uri": "https://localhost:8080/",
          "height": 281
        }
      },
      "source": [
        "plt.hist(train_vectors.data, bins=20)\n",
        "plt.title('Распределение весов признаков')\n",
        "plt.yscale('log');"
      ],
      "execution_count": 36,
      "outputs": [
        {
          "output_type": "display_data",
          "data": {
            "image/png": "[encoded data removed]",
            "text/plain": [
              "<Figure size 432x288 with 1 Axes>"
            ]
          },
          "metadata": {
            "tags": [],
            "needs_background": "light"
          }
        }
      ]
    },
    {
      "cell_type": "markdown",
      "metadata": {
        "colab_type": "text",
        "id": "adp3DpkOgx3R"
      },
      "source": [
        "### Распределение классов"
      ]
    },
    {
      "cell_type": "code",
      "metadata": {
        "ExecuteTime": {
          "end_time": "2019-09-12T12:44:16.864960Z",
          "start_time": "2019-09-12T12:44:16.859476Z"
        },
        "colab_type": "code",
        "id": "op-I9TGdgx3S",
        "outputId": "19ff2bc4-56cc-4d65-830c-c2dcf1c52d61",
        "colab": {
          "base_uri": "https://localhost:8080/",
          "height": 34
        }
      },
      "source": [
        "UNIQUE_LABELS_N = len(set(train_source['target']))\n",
        "print('Количество уникальных меток', UNIQUE_LABELS_N)"
      ],
      "execution_count": 11,
      "outputs": [
        {
          "output_type": "stream",
          "text": [
            "Количество уникальных меток 20\n"
          ],
          "name": "stdout"
        }
      ]
    },
    {
      "cell_type": "code",
      "metadata": {
        "ExecuteTime": {
          "end_time": "2019-09-12T12:44:17.106036Z",
          "start_time": "2019-09-12T12:44:16.867310Z"
        },
        "colab_type": "code",
        "id": "D8F9Imdygx3V",
        "outputId": "97516d81-ad8f-4a14-f652-e39ea3ad2319",
        "colab": {
          "base_uri": "https://localhost:8080/",
          "height": 281
        }
      },
      "source": [
        "plt.hist(train_source['target'], bins=np.arange(0, 21))\n",
        "plt.title('Распределение меток в обучающей выборке');"
      ],
      "execution_count": 38,
      "outputs": [
        {
          "output_type": "display_data",
          "data": {
            "image/png": "[encoded data removed]",
            "text/plain": [
              "<Figure size 432x288 with 1 Axes>"
            ]
          },
          "metadata": {
            "tags": [],
            "needs_background": "light"
          }
        }
      ]
    },
    {
      "cell_type": "code",
      "metadata": {
        "ExecuteTime": {
          "end_time": "2019-09-12T12:44:17.312198Z",
          "start_time": "2019-09-12T12:44:17.109884Z"
        },
        "colab_type": "code",
        "id": "aSqvBC49gx3Z",
        "outputId": "7b70b749-340f-4a05-cc0b-6c0e4c4d343c",
        "scrolled": true,
        "colab": {
          "base_uri": "https://localhost:8080/",
          "height": 281
        }
      },
      "source": [
        "plt.hist(test_source['target'], bins=np.arange(0, 21))\n",
        "plt.title('Распределение меток в тестовой выборке');"
      ],
      "execution_count": 40,
      "outputs": [
        {
          "output_type": "display_data",
          "data": {
            "image/png": "[encoded data removed]",
            "text/plain": [
              "<Figure size 432x288 with 1 Axes>"
            ]
          },
          "metadata": {
            "tags": [],
            "needs_background": "light"
          }
        }
      ]
    },
    {
      "cell_type": "markdown",
      "metadata": {
        "colab_type": "text",
        "id": "MU_7aOLkgx3d"
      },
      "source": [
        "### PyTorch Dataset"
      ]
    },
    {
      "cell_type": "code",
      "metadata": {
        "ExecuteTime": {
          "end_time": "2019-09-12T12:44:17.319292Z",
          "start_time": "2019-09-12T12:44:17.315074Z"
        },
        "colab_type": "code",
        "id": "etHJp3Uagx3e",
        "colab": {}
      },
      "source": [
        "train_dataset = SparseFeaturesDataset(train_vectors, train_source['target'])\n",
        "test_dataset = SparseFeaturesDataset(test_vectors, test_source['target'])"
      ],
      "execution_count": 0,
      "outputs": []
    },
    {
      "cell_type": "markdown",
      "metadata": {
        "colab_type": "text",
        "id": "jvKND8rXgx3h"
      },
      "source": [
        "## Обучение модели на PyTorch"
      ]
    },
    {
      "cell_type": "code",
      "metadata": {
        "ExecuteTime": {
          "end_time": "2019-09-12T12:46:22.371272Z",
          "start_time": "2019-09-12T12:44:17.322178Z"
        },
        "colab_type": "code",
        "id": "fr78mmMNgx3h",
        "outputId": "ad88cc86-c7fd-4410-dfad-f70984c4030a",
        "scrolled": false,
        "colab": {
          "base_uri": "https://localhost:8080/",
          "height": 1000
        }
      },
      "source": [
        "model = nn.Linear(UNIQUE_WORDS_N, UNIQUE_LABELS_N)\n",
        "\n",
        "scheduler = lambda optim: \\\n",
        "    torch.optim.lr_scheduler.ReduceLROnPlateau(optim, patience=5, factor=0.5, verbose=True)\n",
        "\n",
        "best_val_loss, best_model = train_eval_loop(model=model,\n",
        "                                            train_dataset=train_dataset,\n",
        "                                            val_dataset=test_dataset,\n",
        "                                            criterion=F.cross_entropy,\n",
        "                                            lr=1e-1,\n",
        "                                            epoch_n=200,\n",
        "                                            batch_size=32,\n",
        "                                            l2_reg_alpha=0,\n",
        "                                            lr_scheduler_ctor=scheduler)"
      ],
      "execution_count": 41,
      "outputs": [
        {
          "output_type": "stream",
          "text": [
            "Эпоха 0\n",
            "Эпоха: 354 итераций, 3.78 сек\n",
            "Среднее значение функции потерь на обучении 2.2337207837966875\n",
            "Среднее значение функции потерь на валидации 2.1128729627294054\n",
            "Новая лучшая модель!\n",
            "\n",
            "Эпоха 1\n",
            "Эпоха: 354 итераций, 3.15 сек\n",
            "Среднее значение функции потерь на обучении 0.9168949669363808\n",
            "Среднее значение функции потерь на валидации 1.6850647143388198\n",
            "Новая лучшая модель!\n",
            "\n",
            "Эпоха 2\n",
            "Эпоха: 354 итераций, 3.20 сек\n",
            "Среднее значение функции потерь на обучении 0.4672871383570008\n",
            "Среднее значение функции потерь на валидации 1.4720192521305409\n",
            "Новая лучшая модель!\n",
            "\n",
            "Эпоха 3\n",
            "Эпоха: 354 итераций, 3.18 сек\n",
            "Среднее значение функции потерь на обучении 0.28390032309765195\n",
            "Среднее значение функции потерь на валидации 1.3453956099890045\n",
            "Новая лучшая модель!\n",
            "\n",
            "Эпоха 4\n",
            "Эпоха: 354 итераций, 3.24 сек\n",
            "Среднее значение функции потерь на обучении 0.19136756963733226\n",
            "Среднее значение функции потерь на валидации 1.2646857931957407\n",
            "Новая лучшая модель!\n",
            "\n",
            "Эпоха 5\n",
            "Эпоха: 354 итераций, 3.23 сек\n",
            "Среднее значение функции потерь на обучении 0.13675834966749795\n",
            "Среднее значение функции потерь на валидации 1.2028969766224844\n",
            "Новая лучшая модель!\n",
            "\n",
            "Эпоха 6\n",
            "Эпоха: 354 итераций, 3.25 сек\n",
            "Среднее значение функции потерь на обучении 0.10193773758950206\n",
            "Среднее значение функции потерь на валидации 1.150820716962976\n",
            "Новая лучшая модель!\n",
            "\n",
            "Эпоха 7\n",
            "Эпоха: 354 итераций, 3.34 сек\n",
            "Среднее значение функции потерь на обучении 0.0784242905855263\n",
            "Среднее значение функции потерь на валидации 1.1179566764730517\n",
            "Новая лучшая модель!\n",
            "\n",
            "Эпоха 8\n",
            "Эпоха: 354 итераций, 3.19 сек\n",
            "Среднее значение функции потерь на обучении 0.06174725196771534\n",
            "Среднее значение функции потерь на валидации 1.0877001954842422\n",
            "Новая лучшая модель!\n",
            "\n",
            "Эпоха 9\n",
            "Эпоха: 354 итераций, 3.29 сек\n",
            "Среднее значение функции потерь на обучении 0.04938824104387208\n",
            "Среднее значение функции потерь на валидации 1.06637806053889\n",
            "Новая лучшая модель!\n",
            "\n",
            "Эпоха 10\n",
            "Эпоха: 354 итераций, 3.21 сек\n",
            "Среднее значение функции потерь на обучении 0.040295545406387016\n",
            "Среднее значение функции потерь на валидации 1.0410621027320117\n",
            "Новая лучшая модель!\n",
            "\n",
            "Эпоха 11\n",
            "Эпоха: 354 итераций, 3.39 сек\n",
            "Среднее значение функции потерь на обучении 0.03305256028401818\n",
            "Среднее значение функции потерь на валидации 1.028759142857487\n",
            "Новая лучшая модель!\n",
            "\n",
            "Эпоха 12\n",
            "Эпоха: 354 итераций, 3.21 сек\n",
            "Среднее значение функции потерь на обучении 0.02742519864475744\n",
            "Среднее значение функции потерь на валидации 1.007538219755989\n",
            "Новая лучшая модель!\n",
            "\n",
            "Эпоха 13\n",
            "Эпоха: 354 итераций, 3.34 сек\n",
            "Среднее значение функции потерь на обучении 0.022951837371256056\n",
            "Среднее значение функции потерь на валидации 1.005393138628895\n",
            "Новая лучшая модель!\n",
            "\n",
            "Эпоха 14\n",
            "Эпоха: 354 итераций, 3.15 сек\n",
            "Среднее значение функции потерь на обучении 0.0195761504451518\n",
            "Среднее значение функции потерь на валидации 0.9912340548836579\n",
            "Новая лучшая модель!\n",
            "\n",
            "Эпоха 15\n",
            "Эпоха: 354 итераций, 3.29 сек\n",
            "Среднее значение функции потерь на обучении 0.016668251377535657\n",
            "Среднее значение функции потерь на валидации 0.9763277412976249\n",
            "Новая лучшая модель!\n",
            "\n",
            "Эпоха 16\n",
            "Эпоха: 354 итераций, 3.20 сек\n",
            "Среднее значение функции потерь на обучении 0.01423573728366676\n",
            "Среднее значение функции потерь на валидации 0.9738816789398759\n",
            "Новая лучшая модель!\n",
            "\n",
            "Эпоха 17\n",
            "Эпоха: 354 итераций, 3.31 сек\n",
            "Среднее значение функции потерь на обучении 0.01244562889691337\n",
            "Среднее значение функции потерь на валидации 0.9629024984472889\n",
            "Новая лучшая модель!\n",
            "\n",
            "Эпоха 18\n",
            "Эпоха: 354 итераций, 3.24 сек\n",
            "Среднее значение функции потерь на обучении 0.010661973834358745\n",
            "Среднее значение функции потерь на валидации 0.9621286994572413\n",
            "Новая лучшая модель!\n",
            "\n",
            "Эпоха 19\n",
            "Эпоха: 354 итераций, 3.38 сек\n",
            "Среднее значение функции потерь на обучении 0.009327928118649765\n",
            "Среднее значение функции потерь на валидации 0.949702645636211\n",
            "Новая лучшая модель!\n",
            "\n",
            "Эпоха 20\n",
            "Эпоха: 354 итераций, 3.24 сек\n",
            "Среднее значение функции потерь на обучении 0.008168921589530415\n",
            "Среднее значение функции потерь на валидации 0.9458859340619232\n",
            "Новая лучшая модель!\n",
            "\n",
            "Эпоха 21\n",
            "Эпоха: 354 итераций, 3.27 сек\n",
            "Среднее значение функции потерь на обучении 0.007445799598554518\n",
            "Среднее значение функции потерь на валидации 0.9433475167064344\n",
            "Новая лучшая модель!\n",
            "\n",
            "Эпоха 22\n",
            "Эпоха: 354 итераций, 3.18 сек\n",
            "Среднее значение функции потерь на обучении 0.0066967926591261166\n",
            "Среднее значение функции потерь на валидации 0.9505947200676143\n",
            "\n",
            "Эпоха 23\n",
            "Эпоха: 354 итераций, 3.19 сек\n",
            "Среднее значение функции потерь на обучении 0.005819855079957216\n",
            "Среднее значение функции потерь на валидации 0.9628258850109779\n",
            "\n",
            "Эпоха 24\n",
            "Эпоха: 354 итераций, 3.24 сек\n",
            "Среднее значение функции потерь на обучении 0.0050488775806490985\n",
            "Среднее значение функции потерь на валидации 0.9307030882623236\n",
            "Новая лучшая модель!\n",
            "\n",
            "Эпоха 25\n",
            "Эпоха: 354 итераций, 3.40 сек\n",
            "Среднее значение функции потерь на обучении 0.0050056883093498455\n",
            "Среднее значение функции потерь на валидации 0.950659463845067\n",
            "\n",
            "Эпоха 26\n",
            "Эпоха: 354 итераций, 3.34 сек\n",
            "Среднее значение функции потерь на обучении 0.004342266701268411\n",
            "Среднее значение функции потерь на валидации 0.9557885526347969\n",
            "\n",
            "Эпоха 27\n",
            "Эпоха: 354 итераций, 3.33 сек\n",
            "Среднее значение функции потерь на обучении 0.0040947356756900226\n",
            "Среднее значение функции потерь на валидации 0.9420814660646147\n",
            "\n",
            "Эпоха 28\n",
            "Эпоха: 354 итераций, 3.24 сек\n",
            "Среднее значение функции потерь на обучении 0.0038677632670894285\n",
            "Среднее значение функции потерь на валидации 0.9360175308282093\n",
            "\n",
            "Эпоха 29\n",
            "Эпоха: 354 итераций, 3.32 сек\n",
            "Среднее значение функции потерь на обучении 0.0035807586763886797\n",
            "Среднее значение функции потерь на валидации 0.954415659025564\n",
            "\n",
            "Эпоха 30\n",
            "Эпоха: 354 итераций, 3.29 сек\n",
            "Среднее значение функции потерь на обучении 0.0030299921769656683\n",
            "Среднее значение функции потерь на валидации 0.9511221728082431\n",
            "Epoch    31: reducing learning rate of group 0 to 5.0000e-02.\n",
            "\n",
            "Эпоха 31\n",
            "Эпоха: 354 итераций, 3.34 сек\n",
            "Среднее значение функции потерь на обучении 0.0027071075112918013\n",
            "Среднее значение функции потерь на валидации 0.9415806739007012\n",
            "\n",
            "Эпоха 32\n",
            "Эпоха: 354 итераций, 3.36 сек\n",
            "Среднее значение функции потерь на обучении 0.002580137158356644\n",
            "Среднее значение функции потерь на валидации 0.942586642453226\n",
            "\n",
            "Эпоха 33\n",
            "Эпоха: 354 итераций, 3.33 сек\n",
            "Среднее значение функции потерь на обучении 0.0026589965044604984\n",
            "Среднее значение функции потерь на валидации 0.9346206597352432\n",
            "\n",
            "Эпоха 34\n",
            "Эпоха: 354 итераций, 3.32 сек\n",
            "Среднее значение функции потерь на обучении 0.0024470073240184316\n",
            "Среднее значение функции потерь на валидации 0.9388305899702897\n",
            "\n",
            "Эпоха 35\n",
            "Эпоха: 354 итераций, 3.33 сек\n",
            "Среднее значение функции потерь на обучении 0.002350237569401743\n",
            "Среднее значение функции потерь на валидации 0.9430110870023906\n",
            "Модель не улучшилась за последние 10 эпох, прекращаем обучение\n"
          ],
          "name": "stdout"
        }
      ]
    },
    {
      "cell_type": "markdown",
      "metadata": {
        "colab_type": "text",
        "id": "Dp_blOo5gx3k"
      },
      "source": [
        "## Оценка качества"
      ]
    },
    {
      "cell_type": "code",
      "metadata": {
        "ExecuteTime": {
          "end_time": "2019-09-12T12:46:25.105663Z",
          "start_time": "2019-09-12T12:46:22.373012Z"
        },
        "colab_type": "code",
        "id": "ku5qyw1egx3k",
        "outputId": "0563dd3e-ac7e-4470-864c-dfe076deea28",
        "colab": {
          "base_uri": "https://localhost:8080/",
          "height": 156
        }
      },
      "source": [
        "train_pred = predict_with_model(best_model, train_dataset)\n",
        "\n",
        "train_loss = F.cross_entropy(torch.from_numpy(train_pred),\n",
        "                             torch.from_numpy(train_source['target']).long())\n",
        "\n",
        "print('Среднее значение функции потерь на обучении', float(train_loss))\n",
        "print('Доля верных ответов', accuracy_score(train_source['target'], train_pred.argmax(-1)))\n",
        "print()\n",
        "\n",
        "\n",
        "\n",
        "test_pred = predict_with_model(best_model, test_dataset)\n",
        "\n",
        "test_loss = F.cross_entropy(torch.from_numpy(test_pred),\n",
        "                            torch.from_numpy(test_source['target']).long())\n",
        "\n",
        "print('Среднее значение функции потерь на валидации', float(test_loss))\n",
        "print('Доля верных ответов', accuracy_score(test_source['target'], test_pred.argmax(-1)))"
      ],
      "execution_count": 43,
      "outputs": [
        {
          "output_type": "stream",
          "text": [
            "354it [00:01, 196.15it/s]                              \n",
            "  9%|▉         | 21/235.375 [00:00<00:01, 201.99it/s]"
          ],
          "name": "stderr"
        },
        {
          "output_type": "stream",
          "text": [
            "Среднее значение функции потерь на обучении 0.004174966365098953\n",
            "Доля верных ответов 0.9992929114371575\n",
            "\n"
          ],
          "name": "stdout"
        },
        {
          "output_type": "stream",
          "text": [
            "236it [00:01, 194.12it/s]                             "
          ],
          "name": "stderr"
        },
        {
          "output_type": "stream",
          "text": [
            "Среднее значение функции потерь на валидации 0.9288809299468994\n",
            "Доля верных ответов 0.7712426978226234\n"
          ],
          "name": "stdout"
        },
        {
          "output_type": "stream",
          "text": [
            "\n"
          ],
          "name": "stderr"
        }
      ]
    },
    {
      "cell_type": "markdown",
      "metadata": {
        "colab_type": "text",
        "id": "RTh3XgmQgx3o"
      },
      "source": [
        "# Альтернативная реализация на scikit-learn"
      ]
    },
    {
      "cell_type": "code",
      "metadata": {
        "ExecuteTime": {
          "end_time": "2019-09-12T12:46:31.791405Z",
          "start_time": "2019-09-12T12:46:25.107897Z"
        },
        "colab_type": "code",
        "id": "DDQBiAXzgx3o",
        "scrolled": false,
        "colab": {}
      },
      "source": [
        "from sklearn.feature_extraction.text import TfidfVectorizer\n",
        "from sklearn.pipeline import Pipeline\n",
        "from sklearn.linear_model import LogisticRegression\n",
        "\n",
        "sklearn_pipeline = Pipeline((('vect', TfidfVectorizer(tokenizer=tokenize_text_simple_regex,\n",
        "                                                      max_df=MAX_DF,\n",
        "                                                      min_df=MIN_COUNT)),\n",
        "                             ('cls', LogisticRegression())))\n",
        "sklearn_pipeline.fit(train_source['data'], train_source['target']);"
      ],
      "execution_count": 0,
      "outputs": []
    },
    {
      "cell_type": "markdown",
      "metadata": {
        "colab_type": "text",
        "id": "lt-UZbAbgx3s"
      },
      "source": [
        "## Оценка качества"
      ]
    },
    {
      "cell_type": "code",
      "metadata": {
        "ExecuteTime": {
          "end_time": "2019-09-12T12:46:35.454567Z",
          "start_time": "2019-09-12T12:46:31.792832Z"
        },
        "colab_type": "code",
        "id": "3vN8Zpdfgx3s",
        "outputId": "8c7a3a92-8032-43a3-8308-edb5b2e65064",
        "colab": {
          "base_uri": "https://localhost:8080/",
          "height": 102
        }
      },
      "source": [
        "sklearn_train_pred = sklearn_pipeline.predict_proba(train_source['data'])\n",
        "sklearn_train_loss = F.cross_entropy(torch.from_numpy(sklearn_train_pred),\n",
        "                                                 torch.from_numpy(train_source['target']))\n",
        "print('Среднее значение функции потерь на обучении', float(sklearn_train_loss))\n",
        "print('Доля верных ответов', accuracy_score(train_source['target'], sklearn_train_pred.argmax(-1)))\n",
        "print()\n",
        "\n",
        "sklearn_test_pred = sklearn_pipeline.predict_proba(test_source['data'])\n",
        "sklearn_test_loss = F.cross_entropy(torch.from_numpy(sklearn_test_pred),\n",
        "                                                torch.from_numpy(test_source['target']))\n",
        "print('Среднее значение функции потерь на валидации', float(sklearn_test_loss))\n",
        "print('Доля верных ответов', accuracy_score(test_source['target'], sklearn_test_pred.argmax(-1)))"
      ],
      "execution_count": 0,
      "outputs": [
        {
          "output_type": "stream",
          "text": [
            "Среднее значение функции потерь на обучении 2.495478891857855\n",
            "Доля верных ответов 0.9716280714159449\n",
            "\n",
            "Среднее значение функции потерь на валидации 2.653902258233705\n",
            "Доля верных ответов 0.8190387679235263\n"
          ],
          "name": "stdout"
        }
      ]
    },
    {
      "cell_type": "code",
      "metadata": {
        "colab_type": "code",
        "id": "tqOy8knJgx3v",
        "colab": {}
      },
      "source": [
        ""
      ],
      "execution_count": 0,
      "outputs": []
    }
  ]
}